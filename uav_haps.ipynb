{
 "cells": [
  {
   "cell_type": "code",
   "execution_count": null,
   "metadata": {},
   "outputs": [],
   "source": [
    "# Introduction\n",
    "\n",
    "Stratospheric UAVs are increasingly used for communications and optimising the Flight Path could ensure quality and continuity of connectivity\n",
    "\n",
    "# Optimising UAV Flight Path\n",
    "To optimize the flight path of a UAV, we can use the model's output to adjust the UAV's parameters\n",
    "(e.g., speed, altitude, or direction) for better efficiency or safety, taking into account factors such as:\n",
    "    • Fuel consumption\n",
    "    • Weather conditions\n",
    "    • Wind speed\n",
    "    • Battery levels\n",
    "The model output could guide decisions like:\n",
    "    • Altitudes to avoid for turbulence or other atmospheric anomalies.\n",
    "    • Optimal flight speed under current conditions.\n",
    "You can also use reinforcement learning to optimize decisions over time based on real-time feedback from the UAV.\n",
    "\n",
    "\n",
    "\n",
    "Temporal Fusion Transformers (TFT) lends a hand to optimize the flight path of a stratospheric UAV. \n",
    "With data on telemetry, weather, and environmental conditions, \n",
    "the TFT model can help predict and optimize future paths for performance, safety, and efficiency.\n",
    "\n"
   ]
  },
  {
   "cell_type": "code",
   "execution_count": null,
   "metadata": {},
   "outputs": [],
   "source": []
  },
  {
   "cell_type": "markdown",
   "metadata": {},
   "source": [
    "!pip install torch"
   ]
  },
  {
   "cell_type": "markdown",
   "metadata": {},
   "source": [
    "import torch\n",
    "from pytorch_forecasting import TemporalFusionTransformer\n",
    "from pytorch_forecasting.data import TimeSeriesDataSet\n",
    "from pytorch_forecasting import Baseline\n",
    "\n",
    "# Create TimeSeriesDataset for TFT\n",
    "max_encoder_length = 48  # Use the last 48 hours of data for prediction\n",
    "max_prediction_length = 24  # Predict next 24 hours\n",
    "\n",
    "# Split the dataset into training and validation sets\n",
    "train_df = df_scaled[:int(0.8 * len(df))]\n",
    "val_df = df_scaled[int(0.8 * len(df)):]\n",
    "\n",
    "# Create datasets for model training\n",
    "training = TimeSeriesDataSet(\n",
    "    train_df,\n",
    "    time_idx=\"timestamp\",\n",
    "    target=\"altitude\",  # Target the optimization of the flight path based on altitude\n",
    "    group_ids=[\"altitude\"],  # Group by altitude for sequence learning\n",
    "    min_encoder_length=max_encoder_length,\n",
    "    max_encoder_length=max_encoder_length,\n",
    "    min_prediction_length=max_prediction_length,\n",
    "    max_prediction_length=max_prediction_length,\n",
    "    static_categoricals=[],\n",
    "    static_reals=[\"speed\", \"wind_speed\", \"temperature\", \"pressure\", \"turbulence\", \"battery_level\"],\n",
    "    time_varying_known_reals=[\"speed\", \"wind_speed\", \"temperature\", \"pressure\", \"turbulence\"],\n",
    "    time_varying_unknown_reals=[\"altitude\"],\n",
    "    target_normalizer=StandardScaler(),\n",
    ")\n",
    "\n",
    "# Create data loaders\n",
    "from torch.utils.data import DataLoader\n",
    "\n",
    "train_dataloader = DataLoader(training, batch_size=64, shuffle=True)\n"
   ]
  },
  {
   "cell_type": "code",
   "execution_count": null,
   "metadata": {},
   "outputs": [],
   "source": [
    "# Define the model\n",
    "trainer = TemporalFusionTransformer.from_dataset(\n",
    "    training,\n",
    "    learning_rate=0.001,\n",
    "    hidden_size=16,\n",
    "    attention_head_size=1,\n",
    "    dropout=0.1,\n",
    "    hidden_continuous_size=8,\n",
    "    output_size=1,\n",
    "    loss=torch.nn.MSELoss(),\n",
    ")\n",
    "\n",
    "# Train the model\n",
    "trainer.fit(train_dataloader, max_epochs=30)\n"
   ]
  },
  {
   "cell_type": "code",
   "execution_count": null,
   "metadata": {},
   "outputs": [],
   "source": [
    "# Optimise Flight Path with Trainer Model\n",
    "\n",
    "# Generate predictions for validation set\n",
    "val_dataloader = DataLoader(validation, batch_size=64, shuffle=False)\n",
    "\n",
    "# Generate predictions using the trained model\n",
    "predictions = trainer.predict(val_dataloader)\n",
    "\n",
    "# Post-process and visualize the results\n",
    "import matplotlib.pyplot as plt\n",
    "\n",
    "# Plot predicted vs actual values\n",
    "plt.plot(val_df.index, predictions, label='Predicted Altitude')\n",
    "plt.plot(val_df.index, val_df['altitude'], label='Actual Altitude', alpha=0.7)\n",
    "plt.legend()\n",
    "plt.title('Predicted vs Actual Altitude')\n",
    "plt.show()\n"
   ]
  },
  {
   "cell_type": "code",
   "execution_count": null,
   "metadata": {},
   "outputs": [],
   "source": [
    "# Conclusion\n",
    "\n",
    "Flight Path optimisation using Temporal Fusion Transformers (TFT) of a stratospheric UAV with data on telemetry, weather, and environmental conditions, the TFT model can help predict and optimize future paths for performance, safety, and efficiency.\n",
    "\n"
   ]
  }
 ],
 "metadata": {
  "language_info": {
   "name": "python"
  }
 },
 "nbformat": 4,
 "nbformat_minor": 2
}
